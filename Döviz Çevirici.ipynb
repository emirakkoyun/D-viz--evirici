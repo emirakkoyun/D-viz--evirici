{
 "cells": [
  {
   "cell_type": "code",
   "execution_count": null,
   "id": "60024c0d",
   "metadata": {},
   "outputs": [],
   "source": [
    "import requests\n",
    "\n",
    "import sys\n",
    "url = \"http://data.fixer.io/api/latest?access_key=3c68051bdc3e029df1818d7d6223867b&format=1\"\n",
    "print(\"EURO DÖVİZ ÇEVİRİCİ\")\n",
    "birinci_doviz = \"EUR\"\n",
    "ikinci_döviz = input(\"Çevirilecek Döviz Cinsi:\")\n",
    "miktar = float(input(\"Tutar:\"))\n",
    "\n",
    "\n",
    "response = requests.get(url + birinci_doviz)\n",
    "\n",
    "json_verisi = response.json()\n",
    "try:\n",
    "    print(json_verisi[\"rates\"][ikinci_döviz] * miktar)\n",
    "except KeyError:\n",
    "    sys.stderr.write(\"Lütfen para birimlerini doğru girin\")\n",
    "    sys.stderr.flush()"
   ]
  }
 ],
 "metadata": {
  "kernelspec": {
   "display_name": "Python 3 (ipykernel)",
   "language": "python",
   "name": "python3"
  },
  "language_info": {
   "codemirror_mode": {
    "name": "ipython",
    "version": 3
   },
   "file_extension": ".py",
   "mimetype": "text/x-python",
   "name": "python",
   "nbconvert_exporter": "python",
   "pygments_lexer": "ipython3",
   "version": "3.9.12"
  }
 },
 "nbformat": 4,
 "nbformat_minor": 5
}
